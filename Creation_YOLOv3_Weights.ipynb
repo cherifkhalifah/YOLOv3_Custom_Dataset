{
  "nbformat": 4,
  "nbformat_minor": 0,
  "metadata": {
    "colab": {
      "name": "Creation_YOLOv3_Weights.ipynb",
      "provenance": [],
      "collapsed_sections": []
    },
    "kernelspec": {
      "name": "python3",
      "display_name": "Python 3"
    },
    "language_info": {
      "name": "python"
    }
  },
  "cells": [
    {
      "cell_type": "code",
      "execution_count": null,
      "metadata": {
        "id": "ZxhRmyb0r-_6"
      },
      "outputs": [],
      "source": [
        "!nvidia-smi"
      ]
    },
    {
      "cell_type": "code",
      "source": [
        "from google.colab import drive\n",
        "drive.mount('/content/gdrive')\n",
        "!ln -s /content/gdrive/My\\ Drive/ /mydrive\n",
        "!ls /mydrive"
      ],
      "metadata": {
        "id": "9ze6Il6IsO7C"
      },
      "execution_count": null,
      "outputs": []
    },
    {
      "cell_type": "code",
      "source": [
        "!git clone https://github.com/AlexeyAB/darknet"
      ],
      "metadata": {
        "id": "EE0duM--sUm4"
      },
      "execution_count": null,
      "outputs": []
    },
    {
      "cell_type": "code",
      "source": [
        "\n",
        "%cd darknet\n",
        "!sed -i 's/OPENCV=0/OPENCV=1/' Makefile\n",
        "!sed -i 's/GPU=0/GPU=1/' Makefile\n",
        "!sed -i 's/CUDNN=0/CUDNN=1/' Makefile\n",
        "!make\n",
        "%cd /content/"
      ],
      "metadata": {
        "id": "N--52oFasXLU"
      },
      "execution_count": null,
      "outputs": []
    },
    {
      "cell_type": "code",
      "source": [
        "!cp /content/darknet/cfg/yolov3.cfg /content/yolov3.cfg"
      ],
      "metadata": {
        "id": "EEEElQXusfEu"
      },
      "execution_count": null,
      "outputs": []
    },
    {
      "cell_type": "code",
      "source": [
        "nombre_de_classes=2\n",
        "nombre_de_filtres=(nombre_de_classes+5)*3\n",
        "nombre_d_iterations=nombre_de_classes*2000\n",
        "!sed -i 's/max_batches = 500200/max_batches = nombre_d_iterations/' /content/yolov3.cfg\n",
        "!sed -i '610 s@classes=80@classes=nombre_de_classes@' /content/yolov3.cfg\n",
        "!sed -i '696 s@classes=80@classes=nombre_de_classes@' /content/yolov3.cfg\n",
        "!sed -i '783 s@classes=80@classes=nombre_de_classes@' /content/yolov3.cfg\n",
        "!sed -i '603 s@filters=255@filters=nombre_de_filtres@' /content/yolov3.cfg\n",
        "!sed -i '689 s@filters=255@filters=nombre_de_filtres@' /content/yolov3.cfg\n",
        "!sed -i '776 s@filters=255@filters=nombre_de_filtres@' /content/yolov3.cfg"
      ],
      "metadata": {
        "id": "mEsWPxcvstKD"
      },
      "execution_count": null,
      "outputs": []
    },
    {
      "cell_type": "code",
      "source": [
        "import os\n",
        "#creation valid.txt\n",
        "image_files = []\n",
        "os.chdir(os.path.join(\"/content/dataset/\", \"valid\"))\n",
        "for filename in os.listdir(os.getcwd()):\n",
        "    if filename.endswith(\".jpg\"):\n",
        "        image_files.append(\"/content/dataset/valid/\" + filename)\n",
        "os.chdir(\"..\")\n",
        "with open(\"/content/valid.txt\", \"w\") as outfile:\n",
        "    for image in image_files:\n",
        "        outfile.write(image)\n",
        "        outfile.write(\"\\n\")\n",
        "    outfile.close()\n",
        "os.chdir(\"..\")\n",
        "\n",
        "\n",
        "#creation train.txt\n",
        "image_files = []\n",
        "os.chdir(os.path.join(\"/content/dataset/\", \"train\"))\n",
        "for filename in os.listdir(os.getcwd()):\n",
        "    if filename.endswith(\".jpg\"):\n",
        "        image_files.append(\"/content/dataset/train/\" + filename)\n",
        "os.chdir(\"..\")\n",
        "with open(\"/content/train.txt\", \"w\") as outfile:\n",
        "    for image in image_files:\n",
        "        outfile.write(image)\n",
        "        outfile.write(\"\\n\")\n",
        "    outfile.close()\n",
        "os.chdir(\"..\")\n"
      ],
      "metadata": {
        "id": "4OiJ-RAl0a8k"
      },
      "execution_count": null,
      "outputs": []
    },
    {
      "cell_type": "code",
      "source": [
        "Classe1=\n",
        "Classe2=\n",
        "!echo -e 'Classe1\\nClasse2' > /content/obj.names\n",
        "!echo -e 'classes= 2\\ntrain  = /content/train.txt\\nvalid  = /content/valid.txt\\nnames = /content/obj.names\\nbackup = /mydrive/yolov3' > /content/obj.data"
      ],
      "metadata": {
        "id": "QD-KMuylxIAE"
      },
      "execution_count": null,
      "outputs": []
    },
    {
      "cell_type": "code",
      "source": [
        "%cd /content\n",
        "!wget https://pjreddie.com/media/files/darknet53.conv.74"
      ],
      "metadata": {
        "id": "B95t4l9d2reJ"
      },
      "execution_count": null,
      "outputs": []
    },
    {
      "cell_type": "code",
      "source": [
        "!./content/darknet/darknet detector train /content/obj.data /content/yolov3_training.cfg /content/darknet53.conv.74 -dont_show"
      ],
      "metadata": {
        "id": "aq8w4QeaiV8T"
      },
      "execution_count": null,
      "outputs": []
    }
  ]
}