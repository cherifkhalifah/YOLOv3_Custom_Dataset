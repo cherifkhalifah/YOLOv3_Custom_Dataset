{
  "nbformat": 4,
  "nbformat_minor": 0,
  "metadata": {
    "colab": {
      "name": "Creation_YOLOv3_Weights.ipynb",
      "provenance": [],
      "collapsed_sections": []
    },
    "kernelspec": {
      "name": "python3",
      "display_name": "Python 3"
    },
    "language_info": {
      "name": "python"
    }
  },
  "cells": [
    {
      "cell_type": "code",
      "execution_count": null,
      "metadata": {
        "id": "ZxhRmyb0r-_6"
      },
      "outputs": [],
      "source": [
        "!nvidia-smi"
      ]
    },
    {
      "cell_type": "code",
      "source": [
        "from google.colab import drive\n",
        "drive.mount('/content/gdrive')"
      ],
      "metadata": {
        "id": "9ze6Il6IsO7C"
      },
      "execution_count": null,
      "outputs": []
    },
    {
      "cell_type": "code",
      "source": [
        "!git clone https://github.com/AlexeyAB/darknet"
      ],
      "metadata": {
        "id": "EE0duM--sUm4"
      },
      "execution_count": null,
      "outputs": []
    },
    {
      "cell_type": "code",
      "source": [
        "%cd darknet\n",
        "!sed -i 's/OPENCV=0/OPENCV=1/' Makefile\n",
        "!sed -i 's/GPU=0/GPU=1/' Makefile\n",
        "!sed -i 's/CUDNN=0/CUDNN=1/' Makefile\n",
        "!make\n",
        "%cd /content/"
      ],
      "metadata": {
        "id": "N--52oFasXLU"
      },
      "execution_count": null,
      "outputs": []
    },
    {
      "cell_type": "code",
      "source": [
        "!cp /content/darknet/cfg/yolov3.cfg /content/yolov3.cfg"
      ],
      "metadata": {
        "id": "EEEElQXusfEu"
      },
      "execution_count": null,
      "outputs": []
    },
    {
      "cell_type": "code",
      "source": [
        "#Dans yolov3.cfg :\n",
        "#max_batches = nombre de classes * 2000\n",
        "#nombre de filtres = ( nombre de classes + 5 ) x 3\n",
        "#Exp pour 2 classes\n",
        "#max_batches = 4000 \n",
        "#Ligne610 classes=2\n",
        "#Ligne696 classes=2\n",
        "#Ligne783 classes=2\n",
        "#Ligne603 filters=21\n",
        "#Ligne689 filters=21\n",
        "#Ligne776 filters=21"
      ],
      "metadata": {
        "id": "mEsWPxcvstKD"
      },
      "execution_count": null,
      "outputs": []
    },
    {
      "cell_type": "code",
      "source": [
        "import os\n",
        "#creation valid.txt\n",
        "image_files = []\n",
        "os.chdir(os.path.join(\"/content/dataset/valid/\", \"objet\"))\n",
        "for filename in os.listdir(os.getcwd()):\n",
        "    if filename.endswith(\".jpg\"):\n",
        "        image_files.append(\"/content/dataset/valid/objet/\" + filename)\n",
        "os.chdir(\"..\")\n",
        "with open(\"/content/valid.txt\", \"w\") as outfile:\n",
        "    for image in image_files:\n",
        "        outfile.write(image)\n",
        "        outfile.write(\"\\n\")\n",
        "    outfile.close()\n",
        "os.chdir(\"..\")\n",
        "\n",
        "\n",
        "#creation train.txt\n",
        "image_files = []\n",
        "os.chdir(os.path.join(\"/content/dataset/train/\", \"objet\"))\n",
        "for filename in os.listdir(os.getcwd()):\n",
        "    if filename.endswith(\".jpg\"):\n",
        "        image_files.append(\"/content/dataset/train/objet/\" + filename)\n",
        "os.chdir(\"..\")\n",
        "with open(\"/content/train.txt\", \"w\") as outfile:\n",
        "    for image in image_files:\n",
        "        outfile.write(image)\n",
        "        outfile.write(\"\\n\")\n",
        "    outfile.close()\n",
        "os.chdir(\"..\")\n"
      ],
      "metadata": {
        "id": "4OiJ-RAl0a8k"
      },
      "execution_count": null,
      "outputs": []
    },
    {
      "cell_type": "code",
      "source": [
        "!echo -e 'objet' > /content/obj.names\n",
        "!echo -e 'classes= 1\\ntrain  = /content/train.txt\\nvalid  = /content/valid.txt\\nnames = /content/obj.names\\nbackup = /content/' > /content/obj.data"
      ],
      "metadata": {
        "id": "QD-KMuylxIAE"
      },
      "execution_count": null,
      "outputs": []
    },
    {
      "cell_type": "code",
      "source": [
        "%cd /content\n",
        "!wget https://pjreddie.com/media/files/darknet53.conv.74"
      ],
      "metadata": {
        "id": "B95t4l9d2reJ"
      },
      "execution_count": null,
      "outputs": []
    },
    {
      "cell_type": "code",
      "source": [
        "!./content/darknet/darknet detector train /content/obj.data /content/yolov3_training.cfg /content/darknet53.conv.74 -dont_show"
      ],
      "metadata": {
        "id": "aq8w4QeaiV8T"
      },
      "execution_count": null,
      "outputs": []
    }
  ]
}